{
 "cells": [
  {
   "cell_type": "markdown",
   "id": "dc6cfe93",
   "metadata": {},
   "source": []
  },
  {
   "cell_type": "code",
   "execution_count": 1,
   "id": "6a025c7d",
   "metadata": {},
   "outputs": [],
   "source": [
    "import numpy as np\n",
    "import pandas as pd\n",
    "import tensorflow as tf\n",
    "from tensorflow import keras\n",
    "import matplotlib.pyplot as plt"
   ]
  },
  {
   "cell_type": "code",
   "execution_count": 2,
   "id": "4d934697",
   "metadata": {},
   "outputs": [],
   "source": [
    "train = pd.read_csv('fashion-mnist_train.csv')\n",
    "test = pd.read_csv('fashion-mnist_test.csv')"
   ]
  },
  {
   "cell_type": "code",
   "execution_count": 3,
   "id": "cf4a3353",
   "metadata": {},
   "outputs": [
    {
     "data": {
      "text/html": [
       "<div>\n",
       "<style scoped>\n",
       "    .dataframe tbody tr th:only-of-type {\n",
       "        vertical-align: middle;\n",
       "    }\n",
       "\n",
       "    .dataframe tbody tr th {\n",
       "        vertical-align: top;\n",
       "    }\n",
       "\n",
       "    .dataframe thead th {\n",
       "        text-align: right;\n",
       "    }\n",
       "</style>\n",
       "<table border=\"1\" class=\"dataframe\">\n",
       "  <thead>\n",
       "    <tr style=\"text-align: right;\">\n",
       "      <th></th>\n",
       "      <th>label</th>\n",
       "      <th>pixel1</th>\n",
       "      <th>pixel2</th>\n",
       "      <th>pixel3</th>\n",
       "      <th>pixel4</th>\n",
       "      <th>pixel5</th>\n",
       "      <th>pixel6</th>\n",
       "      <th>pixel7</th>\n",
       "      <th>pixel8</th>\n",
       "      <th>pixel9</th>\n",
       "      <th>...</th>\n",
       "      <th>pixel775</th>\n",
       "      <th>pixel776</th>\n",
       "      <th>pixel777</th>\n",
       "      <th>pixel778</th>\n",
       "      <th>pixel779</th>\n",
       "      <th>pixel780</th>\n",
       "      <th>pixel781</th>\n",
       "      <th>pixel782</th>\n",
       "      <th>pixel783</th>\n",
       "      <th>pixel784</th>\n",
       "    </tr>\n",
       "  </thead>\n",
       "  <tbody>\n",
       "    <tr>\n",
       "      <th>0</th>\n",
       "      <td>2</td>\n",
       "      <td>0</td>\n",
       "      <td>0</td>\n",
       "      <td>0</td>\n",
       "      <td>0</td>\n",
       "      <td>0</td>\n",
       "      <td>0</td>\n",
       "      <td>0</td>\n",
       "      <td>0</td>\n",
       "      <td>0</td>\n",
       "      <td>...</td>\n",
       "      <td>0</td>\n",
       "      <td>0</td>\n",
       "      <td>0</td>\n",
       "      <td>0</td>\n",
       "      <td>0</td>\n",
       "      <td>0</td>\n",
       "      <td>0</td>\n",
       "      <td>0</td>\n",
       "      <td>0</td>\n",
       "      <td>0</td>\n",
       "    </tr>\n",
       "    <tr>\n",
       "      <th>1</th>\n",
       "      <td>9</td>\n",
       "      <td>0</td>\n",
       "      <td>0</td>\n",
       "      <td>0</td>\n",
       "      <td>0</td>\n",
       "      <td>0</td>\n",
       "      <td>0</td>\n",
       "      <td>0</td>\n",
       "      <td>0</td>\n",
       "      <td>0</td>\n",
       "      <td>...</td>\n",
       "      <td>0</td>\n",
       "      <td>0</td>\n",
       "      <td>0</td>\n",
       "      <td>0</td>\n",
       "      <td>0</td>\n",
       "      <td>0</td>\n",
       "      <td>0</td>\n",
       "      <td>0</td>\n",
       "      <td>0</td>\n",
       "      <td>0</td>\n",
       "    </tr>\n",
       "    <tr>\n",
       "      <th>2</th>\n",
       "      <td>6</td>\n",
       "      <td>0</td>\n",
       "      <td>0</td>\n",
       "      <td>0</td>\n",
       "      <td>0</td>\n",
       "      <td>0</td>\n",
       "      <td>0</td>\n",
       "      <td>0</td>\n",
       "      <td>5</td>\n",
       "      <td>0</td>\n",
       "      <td>...</td>\n",
       "      <td>0</td>\n",
       "      <td>0</td>\n",
       "      <td>0</td>\n",
       "      <td>30</td>\n",
       "      <td>43</td>\n",
       "      <td>0</td>\n",
       "      <td>0</td>\n",
       "      <td>0</td>\n",
       "      <td>0</td>\n",
       "      <td>0</td>\n",
       "    </tr>\n",
       "    <tr>\n",
       "      <th>3</th>\n",
       "      <td>0</td>\n",
       "      <td>0</td>\n",
       "      <td>0</td>\n",
       "      <td>0</td>\n",
       "      <td>1</td>\n",
       "      <td>2</td>\n",
       "      <td>0</td>\n",
       "      <td>0</td>\n",
       "      <td>0</td>\n",
       "      <td>0</td>\n",
       "      <td>...</td>\n",
       "      <td>3</td>\n",
       "      <td>0</td>\n",
       "      <td>0</td>\n",
       "      <td>0</td>\n",
       "      <td>0</td>\n",
       "      <td>1</td>\n",
       "      <td>0</td>\n",
       "      <td>0</td>\n",
       "      <td>0</td>\n",
       "      <td>0</td>\n",
       "    </tr>\n",
       "    <tr>\n",
       "      <th>4</th>\n",
       "      <td>3</td>\n",
       "      <td>0</td>\n",
       "      <td>0</td>\n",
       "      <td>0</td>\n",
       "      <td>0</td>\n",
       "      <td>0</td>\n",
       "      <td>0</td>\n",
       "      <td>0</td>\n",
       "      <td>0</td>\n",
       "      <td>0</td>\n",
       "      <td>...</td>\n",
       "      <td>0</td>\n",
       "      <td>0</td>\n",
       "      <td>0</td>\n",
       "      <td>0</td>\n",
       "      <td>0</td>\n",
       "      <td>0</td>\n",
       "      <td>0</td>\n",
       "      <td>0</td>\n",
       "      <td>0</td>\n",
       "      <td>0</td>\n",
       "    </tr>\n",
       "  </tbody>\n",
       "</table>\n",
       "<p>5 rows × 785 columns</p>\n",
       "</div>"
      ],
      "text/plain": [
       "   label  pixel1  pixel2  pixel3  pixel4  pixel5  pixel6  pixel7  pixel8  \\\n",
       "0      2       0       0       0       0       0       0       0       0   \n",
       "1      9       0       0       0       0       0       0       0       0   \n",
       "2      6       0       0       0       0       0       0       0       5   \n",
       "3      0       0       0       0       1       2       0       0       0   \n",
       "4      3       0       0       0       0       0       0       0       0   \n",
       "\n",
       "   pixel9  ...  pixel775  pixel776  pixel777  pixel778  pixel779  pixel780  \\\n",
       "0       0  ...         0         0         0         0         0         0   \n",
       "1       0  ...         0         0         0         0         0         0   \n",
       "2       0  ...         0         0         0        30        43         0   \n",
       "3       0  ...         3         0         0         0         0         1   \n",
       "4       0  ...         0         0         0         0         0         0   \n",
       "\n",
       "   pixel781  pixel782  pixel783  pixel784  \n",
       "0         0         0         0         0  \n",
       "1         0         0         0         0  \n",
       "2         0         0         0         0  \n",
       "3         0         0         0         0  \n",
       "4         0         0         0         0  \n",
       "\n",
       "[5 rows x 785 columns]"
      ]
     },
     "execution_count": 3,
     "metadata": {},
     "output_type": "execute_result"
    }
   ],
   "source": [
    "train.head()"
   ]
  },
  {
   "cell_type": "code",
   "execution_count": 4,
   "id": "3d51c615",
   "metadata": {},
   "outputs": [],
   "source": [
    "train_data = np.array(train, dtype = 'float32')\n",
    "test_data = np.array(test, dtype = 'float32')"
   ]
  },
  {
   "cell_type": "markdown",
   "id": "c2f85a3c",
   "metadata": {},
   "source": [
    "Rescaling the pixel intensity values between 0-1 by dividing the sample by 255 (Since grayscale values ranges from 0-255)"
   ]
  },
  {
   "cell_type": "code",
   "execution_count": 5,
   "id": "5a52452a",
   "metadata": {},
   "outputs": [],
   "source": [
    "x_train = train_data[:,1:]/255\n",
    "\n",
    "y_train = train_data[:,0]\n",
    "\n",
    "x_test= test_data[:,1:]/255\n",
    "\n",
    "y_test=test_data[:,0]"
   ]
  },
  {
   "cell_type": "code",
   "execution_count": 7,
   "id": "63a3bd96",
   "metadata": {},
   "outputs": [
    {
     "data": {
      "text/plain": [
       "(60000, 785)"
      ]
     },
     "execution_count": 7,
     "metadata": {},
     "output_type": "execute_result"
    }
   ],
   "source": [
    "train.shape"
   ]
  },
  {
   "cell_type": "markdown",
   "id": "c1cfbb92",
   "metadata": {},
   "source": [
    "The labels corresponds to the following array index of the class_name"
   ]
  },
  {
   "cell_type": "code",
   "execution_count": 8,
   "id": "b25cdcae",
   "metadata": {},
   "outputs": [],
   "source": [
    "class_names = ['T-shirt/Top', 'Trouser', 'Pullover', 'Dress', 'Coat', 'Sandal', 'Shirt', 'Sneaker', 'Bag', 'Ankle boot']"
   ]
  },
  {
   "cell_type": "markdown",
   "id": "a1fa7817",
   "metadata": {},
   "source": [
    "Creating a model using Sequential API "
   ]
  },
  {
   "cell_type": "code",
   "execution_count": 9,
   "id": "ab655d82",
   "metadata": {},
   "outputs": [],
   "source": [
    "model = keras.models.Sequential([\n",
    "    keras.layers.Flatten(input_shape=[28,28]),\n",
    "    keras.layers.Dense(300,activation='relu'),\n",
    "    keras.layers.Dense(100,activation='relu'),\n",
    "    keras.layers.Dense(10,activation='softmax')\n",
    "])"
   ]
  },
  {
   "cell_type": "code",
   "execution_count": 10,
   "id": "0192c2b4",
   "metadata": {},
   "outputs": [
    {
     "name": "stdout",
     "output_type": "stream",
     "text": [
      "Model: \"sequential\"\n",
      "_________________________________________________________________\n",
      "Layer (type)                 Output Shape              Param #   \n",
      "=================================================================\n",
      "flatten (Flatten)            (None, 784)               0         \n",
      "_________________________________________________________________\n",
      "dense (Dense)                (None, 300)               235500    \n",
      "_________________________________________________________________\n",
      "dense_1 (Dense)              (None, 100)               30100     \n",
      "_________________________________________________________________\n",
      "dense_2 (Dense)              (None, 10)                1010      \n",
      "=================================================================\n",
      "Total params: 266,610\n",
      "Trainable params: 266,610\n",
      "Non-trainable params: 0\n",
      "_________________________________________________________________\n"
     ]
    }
   ],
   "source": [
    "model.summary()"
   ]
  },
  {
   "cell_type": "code",
   "execution_count": 11,
   "id": "d94a7bc6",
   "metadata": {},
   "outputs": [],
   "source": [
    "model.compile(loss='sparse_categorical_crossentropy',\n",
    "             optimizer = 'sgd',\n",
    "             metrics = ['accuracy'])"
   ]
  },
  {
   "cell_type": "markdown",
   "id": "fb14300f",
   "metadata": {},
   "source": [
    "TRAINING the Model"
   ]
  },
  {
   "cell_type": "code",
   "execution_count": 13,
   "id": "91064dc8",
   "metadata": {},
   "outputs": [
    {
     "name": "stdout",
     "output_type": "stream",
     "text": [
      "Epoch 1/30\n",
      "WARNING:tensorflow:Model was constructed with shape (None, 28, 28) for input KerasTensor(type_spec=TensorSpec(shape=(None, 28, 28), dtype=tf.float32, name='flatten_input'), name='flatten_input', description=\"created by layer 'flatten_input'\"), but it was called on an input with incompatible shape (None, 784).\n",
      "WARNING:tensorflow:Model was constructed with shape (None, 28, 28) for input KerasTensor(type_spec=TensorSpec(shape=(None, 28, 28), dtype=tf.float32, name='flatten_input'), name='flatten_input', description=\"created by layer 'flatten_input'\"), but it was called on an input with incompatible shape (None, 784).\n",
      "1676/1688 [============================>.] - ETA: 0s - loss: 0.7559 - accuracy: 0.7530WARNING:tensorflow:Model was constructed with shape (None, 28, 28) for input KerasTensor(type_spec=TensorSpec(shape=(None, 28, 28), dtype=tf.float32, name='flatten_input'), name='flatten_input', description=\"created by layer 'flatten_input'\"), but it was called on an input with incompatible shape (None, 784).\n",
      "1688/1688 [==============================] - 4s 2ms/step - loss: 0.7545 - accuracy: 0.7534 - val_loss: 0.5556 - val_accuracy: 0.8077\n",
      "Epoch 2/30\n",
      "1688/1688 [==============================] - 3s 2ms/step - loss: 0.4971 - accuracy: 0.8266 - val_loss: 0.5200 - val_accuracy: 0.8253\n",
      "Epoch 3/30\n",
      "1688/1688 [==============================] - 3s 2ms/step - loss: 0.4524 - accuracy: 0.8416 - val_loss: 0.4516 - val_accuracy: 0.8418\n",
      "Epoch 4/30\n",
      "1688/1688 [==============================] - 3s 2ms/step - loss: 0.4213 - accuracy: 0.8519 - val_loss: 0.4399 - val_accuracy: 0.8460\n",
      "Epoch 5/30\n",
      "1688/1688 [==============================] - 3s 2ms/step - loss: 0.4014 - accuracy: 0.8592 - val_loss: 0.4198 - val_accuracy: 0.8542\n",
      "Epoch 6/30\n",
      "1688/1688 [==============================] - 3s 2ms/step - loss: 0.3853 - accuracy: 0.8646 - val_loss: 0.4178 - val_accuracy: 0.8528\n",
      "Epoch 7/30\n",
      "1688/1688 [==============================] - 3s 2ms/step - loss: 0.3710 - accuracy: 0.8693 - val_loss: 0.3950 - val_accuracy: 0.8635\n",
      "Epoch 8/30\n",
      "1688/1688 [==============================] - 2s 1ms/step - loss: 0.3584 - accuracy: 0.8734 - val_loss: 0.4415 - val_accuracy: 0.8388\n",
      "Epoch 9/30\n",
      "1688/1688 [==============================] - 3s 2ms/step - loss: 0.3485 - accuracy: 0.8766 - val_loss: 0.3946 - val_accuracy: 0.8607\n",
      "Epoch 10/30\n",
      "1688/1688 [==============================] - 3s 2ms/step - loss: 0.3399 - accuracy: 0.8778 - val_loss: 0.3802 - val_accuracy: 0.8677\n",
      "Epoch 11/30\n",
      "1688/1688 [==============================] - 3s 2ms/step - loss: 0.3303 - accuracy: 0.8831 - val_loss: 0.3720 - val_accuracy: 0.8683\n",
      "Epoch 12/30\n",
      "1688/1688 [==============================] - 3s 2ms/step - loss: 0.3234 - accuracy: 0.8843 - val_loss: 0.3670 - val_accuracy: 0.8722\n",
      "Epoch 13/30\n",
      "1688/1688 [==============================] - 3s 2ms/step - loss: 0.3159 - accuracy: 0.8873 - val_loss: 0.3903 - val_accuracy: 0.8605\n",
      "Epoch 14/30\n",
      "1688/1688 [==============================] - 2s 1ms/step - loss: 0.3096 - accuracy: 0.8903 - val_loss: 0.3691 - val_accuracy: 0.8678\n",
      "Epoch 15/30\n",
      "1688/1688 [==============================] - 3s 2ms/step - loss: 0.3013 - accuracy: 0.8915 - val_loss: 0.3939 - val_accuracy: 0.8623\n",
      "Epoch 16/30\n",
      "1688/1688 [==============================] - 3s 2ms/step - loss: 0.2963 - accuracy: 0.8946 - val_loss: 0.3540 - val_accuracy: 0.8760\n",
      "Epoch 17/30\n",
      "1688/1688 [==============================] - 3s 2ms/step - loss: 0.2896 - accuracy: 0.8957 - val_loss: 0.3633 - val_accuracy: 0.8703\n",
      "Epoch 18/30\n",
      "1688/1688 [==============================] - 3s 2ms/step - loss: 0.2853 - accuracy: 0.8972 - val_loss: 0.3723 - val_accuracy: 0.8680\n",
      "Epoch 19/30\n",
      "1688/1688 [==============================] - 3s 2ms/step - loss: 0.2787 - accuracy: 0.8988 - val_loss: 0.3367 - val_accuracy: 0.8773\n",
      "Epoch 20/30\n",
      "1688/1688 [==============================] - 2s 1ms/step - loss: 0.2745 - accuracy: 0.9015 - val_loss: 0.3347 - val_accuracy: 0.8810\n",
      "Epoch 21/30\n",
      "1688/1688 [==============================] - 3s 2ms/step - loss: 0.2698 - accuracy: 0.9025 - val_loss: 0.3423 - val_accuracy: 0.8785\n",
      "Epoch 22/30\n",
      "1688/1688 [==============================] - 3s 2ms/step - loss: 0.2661 - accuracy: 0.9030 - val_loss: 0.3462 - val_accuracy: 0.8750\n",
      "Epoch 23/30\n",
      "1688/1688 [==============================] - 3s 2ms/step - loss: 0.2610 - accuracy: 0.9062 - val_loss: 0.3610 - val_accuracy: 0.8713\n",
      "Epoch 24/30\n",
      "1688/1688 [==============================] - 3s 2ms/step - loss: 0.2559 - accuracy: 0.9079 - val_loss: 0.3672 - val_accuracy: 0.8690\n",
      "Epoch 25/30\n",
      "1688/1688 [==============================] - 3s 1ms/step - loss: 0.2523 - accuracy: 0.9085 - val_loss: 0.3457 - val_accuracy: 0.8807\n",
      "Epoch 26/30\n",
      "1688/1688 [==============================] - 3s 2ms/step - loss: 0.2481 - accuracy: 0.9102 - val_loss: 0.3306 - val_accuracy: 0.8837\n",
      "Epoch 27/30\n",
      "1688/1688 [==============================] - 3s 2ms/step - loss: 0.2443 - accuracy: 0.9121 - val_loss: 0.3218 - val_accuracy: 0.8850\n",
      "Epoch 28/30\n",
      "1688/1688 [==============================] - 3s 2ms/step - loss: 0.2403 - accuracy: 0.9123 - val_loss: 0.3225 - val_accuracy: 0.8817\n",
      "Epoch 29/30\n",
      "1688/1688 [==============================] - 3s 2ms/step - loss: 0.2366 - accuracy: 0.9131 - val_loss: 0.3207 - val_accuracy: 0.8885\n",
      "Epoch 30/30\n",
      "1688/1688 [==============================] - 3s 1ms/step - loss: 0.2322 - accuracy: 0.9162 - val_loss: 0.3210 - val_accuracy: 0.8868\n"
     ]
    }
   ],
   "source": [
    "logs = model.fit(x_train, y_train, epochs=30, validation_split = 0.1)"
   ]
  },
  {
   "cell_type": "code",
   "execution_count": 14,
   "id": "1e12ded4",
   "metadata": {},
   "outputs": [
    {
     "name": "stdout",
     "output_type": "stream",
     "text": [
      "313/313 [==============================] - 0s 1ms/step - loss: 0.3034 - accuracy: 0.8897\n"
     ]
    },
    {
     "data": {
      "text/plain": [
       "[0.3033735752105713, 0.8896999955177307]"
      ]
     },
     "execution_count": 14,
     "metadata": {},
     "output_type": "execute_result"
    }
   ],
   "source": [
    "model.evaluate(x_test, y_test)"
   ]
  },
  {
   "cell_type": "code",
   "execution_count": 15,
   "id": "442d9ea8",
   "metadata": {},
   "outputs": [
    {
     "data": {
      "image/png": "[encoded data removed]",
      "text/plain": [
       "<Figure size 576x360 with 1 Axes>"
      ]
     },
     "metadata": {
      "needs_background": "light"
     },
     "output_type": "display_data"
    }
   ],
   "source": [
    "pd.DataFrame(logs.history).plot(figsize=(8,5))\n",
    "plt.grid(True)\n",
    "plt.show()"
   ]
  },
  {
   "cell_type": "markdown",
   "id": "0920392c",
   "metadata": {},
   "source": [
    "We can infer from the graph that the validation accuracy is on gradual inclination and the loss is declining steadily as expected."
   ]
  },
  {
   "cell_type": "code",
   "execution_count": null,
   "id": "a9dad06c",
   "metadata": {},
   "outputs": [],
   "source": []
  }
 ],
 "metadata": {
  "kernelspec": {
   "display_name": "Python 3",
   "language": "python",
   "name": "python3"
  },
  "language_info": {
   "codemirror_mode": {
    "name": "ipython",
    "version": 3
   },
   "file_extension": ".py",
   "mimetype": "text/x-python",
   "name": "python",
   "nbconvert_exporter": "python",
   "pygments_lexer": "ipython3",
   "version": "3.6.13"
  }
 },
 "nbformat": 4,
 "nbformat_minor": 5
}
